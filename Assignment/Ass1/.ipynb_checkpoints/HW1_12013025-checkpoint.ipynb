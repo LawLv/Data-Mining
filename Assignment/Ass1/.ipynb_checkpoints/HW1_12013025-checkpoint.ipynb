{
 "cells": [
  {
   "cell_type": "code",
   "execution_count": null,
   "id": "fd9ce304",
   "metadata": {},
   "outputs": [],
   "source": [
    "import pandas as pd\n",
    "# 1 成功读入数据，发现所有数据列都包含缺失\n",
    "data = pd.read_csv('HW1data.csv', header = 0,encoding= 'unicode_escape')\n",
    "\n",
    "# 检查所有列是否包含缺失值\n",
    "missing_columns = data.columns[data.isnull().any()]\n",
    "\n",
    "if missing_columns.empty:\n",
    "    print(\"所有数据列均无缺失值。\")\n",
    "else:\n",
    "    print(\"以下数据列包含缺失值：\")\n",
    "    for column in missing_columns:\n",
    "        print(column)"
   ]
  },
  {
   "cell_type": "code",
   "execution_count": null,
   "id": "b46a0ef1",
   "metadata": {
    "scrolled": true
   },
   "outputs": [],
   "source": [
    "# 2 a) 从原始数据中提取出所有的PatientId与其对应的Gender/Age/Neighbourhood 信息\n",
    "# 选择需要的列\n",
    "selected_columns = ['PatientId', 'Gender', 'Age', 'Neighbourhood']\n",
    "data_selected = data[selected_columns]\n",
    "\n",
    "# 打印仅保留PatientId，Gender，Age，Neighbourhood的数据\n",
    "print(data_selected.head(15))"
   ]
  },
  {
   "cell_type": "code",
   "execution_count": null,
   "id": "3c37b314",
   "metadata": {},
   "outputs": [],
   "source": [
    "# 2 b) 回到最初的数据，去除指定列的NaN值\n",
    "# 创建一个过滤条件，用于过滤掉特定列中的 NaN 值\n",
    "filter_condition = data['PatientId'].notna() & data['ScheduledDay'].notna() & \\\n",
    "                   data['AppointmentDay'].notna() & data['SMS_received'].notna() & \\\n",
    "                   data['No-show'].notna()\n",
    "\n",
    "# 根据过滤条件获取过滤后的子数据集\n",
    "data = data[filter_condition]\n",
    "\n",
    "# 打印处理后的数据（子数据集）\n",
    "print(data.head(15))"
   ]
  },
  {
   "cell_type": "code",
   "execution_count": null,
   "id": "e3a78b89",
   "metadata": {},
   "outputs": [],
   "source": [
    "# 2 c) 使用之前提取出来的PatientId与对应信息补全缺失的Gender/Age/Neighbourhood 值\n",
    "# 遍历 data 的每一行\n",
    "for index, row in data.iterrows():\n",
    "    # 如果该行的 'Gender'、'Age'、'Neighbourhood' 都不为 NaN，则跳过此行\n",
    "    if not pd.isnull(row['Gender']) and not pd.isnull(row['Age']) and not pd.isnull(row['Neighbourhood']):\n",
    "        continue\n",
    "        \n",
    "    patient_id = row['PatientId']\n",
    "    # 在 data_selected 中查找所有相同的 PatientId\n",
    "    matching_rows = data_selected[data_selected['PatientId'] == patient_id]\n",
    "    if not matching_rows.empty:\n",
    "        # 获取匹配到的第一条记录的非空值\n",
    "        gender = matching_rows['Gender'].dropna().iloc[0] if not matching_rows['Gender'].dropna().empty else None\n",
    "        age = matching_rows['Age'].dropna().iloc[0] if not matching_rows['Age'].dropna().empty else None\n",
    "        neighbourhood = matching_rows['Neighbourhood'].dropna().iloc[0] if not matching_rows['Neighbourhood'].dropna().empty else None\n",
    "        \n",
    "        # 填充非空值到 data 中的缺失位置\n",
    "        if gender:\n",
    "            data.loc[index, 'Gender'] = gender\n",
    "        if age:\n",
    "            data.loc[index, 'Age'] = age\n",
    "        if neighbourhood:\n",
    "            data.loc[index, 'Neighbourhood'] = neighbourhood\n",
    "\n",
    "# 打印处理后的数据\n",
    "print(data.head(15))\n",
    "\n"
   ]
  },
  {
   "cell_type": "code",
   "execution_count": null,
   "id": "b43ea39f",
   "metadata": {},
   "outputs": [],
   "source": [
    "# 3 如果第二步去并没有对数据进行补全,去除掉PatientID，Gender，Age，Neighbourhood，ScheduledDay，AppointmentDay，SMS_received 和 No-show 的 NaN 值\n",
    "# 检查 'Gender', 'Age', 'Neighbourhood' 列是否包含缺失值\n",
    "missing_columns = data[['Gender', 'Age', 'Neighbourhood']].columns[data[['Gender', 'Age', 'Neighbourhood']].isnull().any()]\n",
    "\n",
    "if not missing_columns.empty:\n",
    "    # 除掉 'PatientID', 'Gender', 'Age', 'Neighbourhood', 'ScheduledDay', 'AppointmentDay', 'SMS_received', 'No-show' 列中含有 NaN 值的行\n",
    "    data = data.dropna(subset=['PatientId', 'Gender', 'Age', 'Neighbourhood', 'ScheduledDay', 'AppointmentDay', 'SMS_received', 'No-show'])\n",
    "    \n",
    "    print(\"已除掉 'PatientId', 'Gender', 'Age', 'Neighbourhood', 'ScheduledDay', 'AppointmentDay', 'SMS_received', 'No-show' 列中含有 NaN 值的行。\")\n",
    "    print(\"处理后的数据：\")\n",
    "    print(data.head(15))\n",
    "else:\n",
    "    print(\"'Gender', 'Age', 'Neighbourhood' 列均无缺失值。\")\n",
    "print(data.head(15))\n",
    "\n"
   ]
  },
  {
   "cell_type": "code",
   "execution_count": null,
   "id": "77aea2ee",
   "metadata": {},
   "outputs": [],
   "source": [
    "# 4 使用默认值0补全Scholarship、Hipertension、Diabetes、Alcoholism和Handcap 信息\n",
    "# 定义需要补全缺失值的列表名\n",
    "columns_to_fill = ['Scholarship', 'Hipertension', 'Diabetes', 'Alcoholism', 'Handcap']\n",
    "\n",
    "# 使用默认值 0 填充缺失值\n",
    "data.loc[:, columns_to_fill] = data.loc[:, columns_to_fill].fillna(0)\n",
    "\n",
    "# 打印处理后的数据\n",
    "print(data.head(15))"
   ]
  },
  {
   "cell_type": "code",
   "execution_count": null,
   "id": "17ab5e28",
   "metadata": {},
   "outputs": [],
   "source": [
    "#  5 从数据中去掉PatientId与AppointmentID\n",
    "# 检查 'PatientId' 和 'AppointmentID' 列是否存在于数据中\n",
    "if 'PatientId' in data.columns and 'AppointmentID' in data.columns:\n",
    "    # 定义需要删除的列名\n",
    "    columns_to_drop = ['PatientId', 'AppointmentID']\n",
    "\n",
    "    # 删除指定列\n",
    "    data = data.drop(columns=columns_to_drop)\n",
    "\n",
    "    # 打印处理后的数据\n",
    "    print(data.head(15))\n",
    "else:\n",
    "    print(\"数据中不存在 'PatientId' 和 'AppointmentID' 列。\")\n",
    "    print(data.head(15))"
   ]
  },
  {
   "cell_type": "code",
   "execution_count": null,
   "id": "01cb8057",
   "metadata": {},
   "outputs": [],
   "source": [
    "# 6 去除异常年龄\n",
    "# 找出 'Age' 列中小于 0 或大于 120 的异常值的行索引\n",
    "invalid_age_index = data[(data['Age'] < 0) | (data['Age'] > 120)].index\n",
    "\n",
    "# 去除包含异常年龄的行\n",
    "data = data.drop(index=invalid_age_index)\n",
    "\n",
    "# 打印处理后的数据\n",
    "print(data.head(15))\n"
   ]
  },
  {
   "cell_type": "code",
   "execution_count": null,
   "id": "0555de6f",
   "metadata": {},
   "outputs": [],
   "source": [
    "#  7 计算出ScheduledDay和AppointmentDay 的差距天数（Delta_Day）\n",
    "# 添加一列 Delta_Day\n",
    "data['Delta_Day'] = 0  # 先将 Delta_Day 列填充为 0\n",
    "\n",
    "# 判断并转换为 datetime 类型\n",
    "if not isinstance(data['ScheduledDay'].iloc[0], pd.Timestamp):\n",
    "    data['ScheduledDay'] = pd.to_datetime(data['ScheduledDay'].str[:10])\n",
    "if not isinstance(data['AppointmentDay'].iloc[0], pd.Timestamp):\n",
    "    data['AppointmentDay'] = pd.to_datetime(data['AppointmentDay'].str[:10])\n",
    "\n",
    "# 计算 Delta_Day 并写入\n",
    "data['Delta_Day'] = (data['AppointmentDay'] - data['ScheduledDay']).dt.days\n",
    "\n",
    "# 如果预约日在就诊日之后，我认为数据错误，则删除此行\n",
    "for index, row in data.iterrows():\n",
    "    if row['Delta_Day'] < 0:\n",
    "        data = data.drop(index)\n",
    "print(data.head(15))"
   ]
  },
  {
   "cell_type": "code",
   "execution_count": null,
   "id": "c24d6995",
   "metadata": {},
   "outputs": [],
   "source": [
    "#  8 计算出ScheduledDay 和AppointmentDay 都分别是星期几（SDay_DOW，ADay_DOW）\n",
    "# 计算ScheduledDay和AppointmentDay对应的星期几并加入数据中\n",
    "data['SDay_DOW'] = data['ScheduledDay'].dt.dayofweek\n",
    "data['ADay_DOW'] = data['AppointmentDay'].dt.dayofweek\n",
    "\n",
    "# 星期几的英语表示字典\n",
    "dow_mapping = {\n",
    "    0: 'Monday',\n",
    "    1: 'Tuesday',\n",
    "    2: 'Wednesday',\n",
    "    3: 'Thursday',\n",
    "    4: 'Friday',\n",
    "    5: 'Saturday',\n",
    "    6: 'Sunday'\n",
    "}\n",
    "\n",
    "# 将数字表示转换为英语表示\n",
    "data['SDay_DOW'] = data['SDay_DOW'].map(dow_mapping)\n",
    "data['ADay_DOW'] = data['ADay_DOW'].map(dow_mapping)\n",
    "\n",
    "print(data.head(15))"
   ]
  },
  {
   "cell_type": "code",
   "execution_count": null,
   "id": "2d755b55",
   "metadata": {
    "scrolled": true
   },
   "outputs": [],
   "source": [
    "#  9 从数据中去掉ScheduledDay与AppointmentDay\n",
    "data.drop(['ScheduledDay', 'AppointmentDay'], axis=1, inplace=True)\n",
    "print(data.head(15))"
   ]
  },
  {
   "cell_type": "code",
   "execution_count": null,
   "id": "df6c7980",
   "metadata": {},
   "outputs": [],
   "source": []
  }
 ],
 "metadata": {
  "kernelspec": {
   "display_name": "tf",
   "language": "python",
   "name": "tf"
  },
  "language_info": {
   "codemirror_mode": {
    "name": "ipython",
    "version": 3
   },
   "file_extension": ".py",
   "mimetype": "text/x-python",
   "name": "python",
   "nbconvert_exporter": "python",
   "pygments_lexer": "ipython3",
   "version": "3.9.18"
  }
 },
 "nbformat": 4,
 "nbformat_minor": 5
}
