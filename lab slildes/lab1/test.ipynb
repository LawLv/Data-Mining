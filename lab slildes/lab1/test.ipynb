{
 "cells": [
  {
   "cell_type": "code",
   "execution_count": 3,
   "id": "1ebb0506",
   "metadata": {},
   "outputs": [
    {
     "name": "stdout",
     "output_type": "stream",
     "text": [
      "2550 2500\n"
     ]
    }
   ],
   "source": [
    "ans_even = 0\n",
    "ans_odd = 0\n",
    "for i in range(1,101):\n",
    "    if i % 2 == 0:\n",
    "        ans_even += i\n",
    "    else:\n",
    "        ans_odd += i\n",
    "print(ans_even, ans_odd)"
   ]
  },
  {
   "cell_type": "code",
   "execution_count": 7,
   "id": "97b43142",
   "metadata": {},
   "outputs": [
    {
     "name": "stdout",
     "output_type": "stream",
     "text": [
      "Example 1 Output: [[1, 6], [8, 10], [15, 18]]\n",
      "Example 2 Output: [[1, 5]]\n"
     ]
    }
   ],
   "source": [
    "def Function(intervals):\n",
    "    if not intervals:\n",
    "        return []\n",
    "    \n",
    "    # 按区间起始值排序\n",
    "    intervals.sort(key=lambda x: x[0])\n",
    "    \n",
    "    merged = [intervals[0]]\n",
    "    \n",
    "    for i in range(1, len(intervals)):\n",
    "        # 当前区间起始值<=上一个区间的终止值，重叠\n",
    "        if intervals[i][0] <= merged[-1][1]:\n",
    "            # 合并重叠区间的终止值取两个区间终止值的最大值\n",
    "            merged[-1][1] = max(merged[-1][1], intervals[i][1])\n",
    "        else:\n",
    "            # 如果不重叠，则直接将当前区间加入结果列表\n",
    "            merged.append(intervals[i])\n",
    "    \n",
    "    return merged\n",
    "\n",
    "# 示例测试\n",
    "interval1 = [[1,3],[2,6],[8,10],[15,18]]\n",
    "print(\"Example 1 Output:\", Function(interval1))\n",
    "interval2 = [[1,4],[4,5]]\n",
    "print(\"Example 2 Output:\", Function(interval2))"
   ]
  },
  {
   "cell_type": "code",
   "execution_count": 10,
   "id": "e5e7db82",
   "metadata": {},
   "outputs": [
    {
     "name": "stdout",
     "output_type": "stream",
     "text": [
      "File 'example_output.txt' has been successfully written.\n"
     ]
    }
   ],
   "source": [
    "# 读取文本文件\n",
    "def read_txt_file(filename):\n",
    "    try:\n",
    "        with open(filename, 'r') as file:\n",
    "            content = file.read()\n",
    "        return content\n",
    "    except FileNotFoundError:\n",
    "        print(f\"Error: File '{filename}' not found.\")\n",
    "        return None\n",
    "\n",
    "# 写入文本文件\n",
    "def write_txt_file(filename, content):\n",
    "    try:\n",
    "        with open(filename, 'w') as file:\n",
    "            file.write(content)\n",
    "        print(f\"File '{filename}' has been successfully written.\")\n",
    "    except Exception as e:\n",
    "        print(f\"Error occurred while writing to '{filename}': {e}\")\n",
    "\n",
    "file_content = read_txt_file(\"example.txt\")\n",
    "if file_content:\n",
    "    print(\"Content of example.txt:\")\n",
    "    print(file_content)\n",
    "\n",
    "write_txt_file(\"example_output.txt\", \"This is the content to write into the file.\")\n"
   ]
  },
  {
   "cell_type": "code",
   "execution_count": 11,
   "id": "2264ad78",
   "metadata": {},
   "outputs": [
    {
     "name": "stdout",
     "output_type": "stream",
     "text": [
      "Error: File 'example.csv' not found.\n",
      "File 'example_output.csv' has been successfully written.\n"
     ]
    }
   ],
   "source": [
    "import csv\n",
    "\n",
    "# 读取 CSV 文件\n",
    "def read_csv_file(filename):\n",
    "    data = []\n",
    "    try:\n",
    "        with open(filename, 'r') as file:\n",
    "            csv_reader = csv.reader(file)\n",
    "            for row in csv_reader:\n",
    "                data.append(row)\n",
    "        return data\n",
    "    except FileNotFoundError:\n",
    "        print(f\"Error: File '{filename}' not found.\")\n",
    "        return None\n",
    "\n",
    "# 写入 CSV 文件\n",
    "def write_csv_file(filename, data):\n",
    "    try:\n",
    "        with open(filename, 'w', newline='') as file:\n",
    "            csv_writer = csv.writer(file)\n",
    "            for row in data:\n",
    "                csv_writer.writerow(row)\n",
    "        print(f\"File '{filename}' has been successfully written.\")\n",
    "    except Exception as e:\n",
    "        print(f\"Error occurred while writing to '{filename}': {e}\")\n",
    "\n",
    "csv_data = read_csv_file(\"example.csv\")\n",
    "if csv_data:\n",
    "    print(\"Data from example.csv:\")\n",
    "    for row in csv_data:\n",
    "        print(row)\n",
    "\n",
    "csv_data_to_write = [\n",
    "    [\"Name\", \"Age\", \"Country\"],\n",
    "    [\"John\", \"30\", \"USA\"],\n",
    "    [\"Alice\", \"25\", \"Canada\"]\n",
    "]\n",
    "\n",
    "write_csv_file(\"example_output.csv\", csv_data_to_write)\n"
   ]
  }
 ],
 "metadata": {
  "kernelspec": {
   "display_name": "tf",
   "language": "python",
   "name": "tf"
  },
  "language_info": {
   "codemirror_mode": {
    "name": "ipython",
    "version": 3
   },
   "file_extension": ".py",
   "mimetype": "text/x-python",
   "name": "python",
   "nbconvert_exporter": "python",
   "pygments_lexer": "ipython3",
   "version": "3.9.18"
  }
 },
 "nbformat": 4,
 "nbformat_minor": 5
}
